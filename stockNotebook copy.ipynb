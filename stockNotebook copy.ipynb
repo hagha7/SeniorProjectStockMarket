{
 "cells": [
  {
   "attachments": {},
   "cell_type": "markdown",
   "metadata": {},
   "source": [
    "# Senior Project: Stock Market Analysis and Prediction\n",
    "\n",
    "## Stock Market Data From Yahoo Finance API \n",
    "\n",
    "### Introduction\n",
    "\n",
    "   Created by Hibah Agha, Jamie Serpico, Devyn Kipphut, and Brandon Le\n",
    "   \n",
    "\n"
   ]
  },
  {
   "cell_type": "code",
   "execution_count": null,
   "metadata": {
    "collapsed": false
   },
   "outputs": [],
   "source": [
    "import mercury as mr"
   ]
  },
  {
   "cell_type": "code",
   "execution_count": null,
   "metadata": {
    "pycharm": {
     "is_executing": true
    }
   },
   "outputs": [],
   "source": [
    "import yfinance as yf\n",
    "import pandas as pd\n",
    "pd.options.mode.chained_assignment=None\n",
    "import numpy as np\n",
    "import math\n",
    "from sklearn.preprocessing import MinMaxScaler\n",
    "from keras.models import Sequential\n",
    "from keras.layers import Dense, LSTM, Dropout\n",
    "import matplotlib.pyplot as plt\n",
    "plt.style.use('fivethirtyeight')\n",
    "import logging\n",
    "logger = logging.getLogger(\"cmdstanpy\")\n",
    "logger.addHandler(logging.NullHandler())\n",
    "logger.propogate = False\n",
    "logger.setLevel(logging.CRITICAL)"
   ]
  },
  {
   "cell_type": "code",
   "execution_count": null,
   "metadata": {
    "pycharm": {
     "is_executing": true
    }
   },
   "outputs": [],
   "source": [
    "def print_info(yf_tickers):\n",
    "    if isinstance(yf_tickers, yf.Ticker):\n",
    "        print(f\"\\n{'='*80}\")\n",
    "        space = ' '\n",
    "        print(f\"{space*33}{yf_tickers.info['symbol']}\\n\")\n",
    "        for key in yf_tickers.info:\n",
    "            print(f\"--> {key:>29} : {yf_tickers.info[key]}\")\n",
    "\n",
    "    elif isinstance(yf_tickers, yf_Tickers):\n",
    "        for ticker in yf_tickers.tickers:\n",
    "            print(f\"\\n{'='*80}\")\n",
    "            space = ' '\n",
    "            print(f\"{space*33}{ticker.info['symbol']}\\n\")\n",
    "            for key in ticker.info.keys():\n",
    "                print(f\"--> {key:>29} : {ticker.info[key]}\")\n",
    "\n",
    "def print_table(yf_tickers):\n",
    "    if isinstance(yf_tickers, yf.Ticker):\n",
    "        ticker = yf_tickers\n",
    "        print(f\"| {ticker.info.get('symbol', 'NONE'):<5} | {ticker.info.get('sector', 'NONE'):>25} | \" + \\\n",
    "              f\"{ticker.info.get('currency', 'NONE'):>4} | {ticker.info.get('quoteType', 'NONE'):>6} | \" + \\\n",
    "              f\"{ticker.info.get('shortName', 'NONE'):<35} |\")\n",
    "        \n",
    "    elif isinstance(yf_tickers, yf.Tickers):\n",
    "        for ticker in yf_tickers.tickers:\n",
    "            print(f\"| {ticker.info.get('symbol', 'NONE'):<5} | {ticker.info.get('sector', 'NONE'):>25} | \" + \\\n",
    "              f\"{ticker.info.get('currency', 'NONE'):>4} | {ticker.info.get('quoteType', 'NONE'):>6} | \" + \\\n",
    "              f\"{ticker.info.get('shortName', 'NONE'):<35} |\")"
   ]
  },
  {
   "cell_type": "code",
   "execution_count": null,
   "metadata": {
    "pycharm": {
     "is_executing": true
    }
   },
   "outputs": [],
   "source": [
    "#ticker = yf.Ticker('AAPL')\n",
    "#df = yf.download('AAPL', start='2018-03-21', end='2023-03-21')\n",
    "# For cryptocurrencies, add -USD at the end of your Ticker name\n",
    "#tickerName = input('What is your Stock ticker name? (e.g. AAPL = Apple)').upper()\n",
    "show_code = mr.Checkbox(label=\"Show Code\", value=False)\n",
    "app = mr.App(title=\"Senior Project\", description=\"Stock Market Analysis and Prediction using Yahoo Finance\", show_code=show_code.value)\n",
    "tickerNameBox = mr.Text(label=\"Step 1: Choose a Ticker\")\n",
    "startDateBox = mr.Text(label=\"Step 2: Pick start date in this format: YYYY-MM-DD\")\n",
    "endDateBox = mr.Text(label=\"Step 3: Pick end date in this format: YYYY-MM-DD\")\n",
    "epochBox =  mr.Slider(value=5, min=1, max=10, label=\"Step 4: Choose a number of Epochs. (Higher is more accurate)\", step=1)\n",
    "tickerName = tickerNameBox.value\n",
    "startDate = startDateBox.value\n",
    "endDate = endDateBox.value\n",
    "epochCount = epochBox.value\n",
    "if startDate == \"\" or endDate == \"\" or tickerName == \"\":\n",
    "    mr.Stop()\n",
    "#note = mr.Note(text=\"Step 1. Choose a Ticker Name\")\n",
    "#note2 = mr.Note(text=\"Step 2. Choose a Start Date (ie. YYYY-MM-DD)\")\n",
    "#note3 = mr.Note(text=\"Step 3. Choose an End Date\")"
   ]
  },
  {
   "cell_type": "code",
   "execution_count": null,
   "metadata": {
    "pycharm": {
     "is_executing": true
    }
   },
   "outputs": [],
   "source": [
    "mr.Markdown(f\"\"\"## You have chosen the stock:  {tickerName}!\n",
    "We will show you info and predictions from {startDate} to {endDate}\n",
    "\"\"\")\n",
    "# print(tickerName)\n",
    "# print(startDate)\n",
    "# print(endDate)\n",
    "df = yf.download(tickerName, startDate, endDate)\n"
   ]
  },
  {
   "cell_type": "code",
   "execution_count": null,
   "metadata": {
    "pycharm": {
     "is_executing": true
    }
   },
   "outputs": [],
   "source": [
    "df\n",
    "# Close is the raw close and Adj Close is the Closing added with other stock attributes\n",
    "# df.shape"
   ]
  },
  {
   "cell_type": "code",
   "execution_count": null,
   "metadata": {},
   "outputs": [],
   "source": [
    "df.shape"
   ]
  },
  {
   "cell_type": "code",
   "execution_count": null,
   "metadata": {
    "pycharm": {
     "is_executing": true
    }
   },
   "outputs": [],
   "source": [
    "mr.Md(f\"\"\"\n",
    "##Showing Graph of History for {tickerName}\n",
    "\"\"\")\n",
    "\n",
    "plt.figure(figsize=(16,8))\n",
    "plt.title('Close Price History of ' +str(tickerName))\n",
    "plt.plot(df['Close'])\n",
    "plt.xlabel('Date', fontsize = 18)\n",
    "plt.ylabel('Close Price USD ($)', fontsize = 18)\n",
    "plt.show()"
   ]
  },
  {
   "cell_type": "code",
   "execution_count": null,
   "metadata": {
    "pycharm": {
     "is_executing": true
    }
   },
   "outputs": [],
   "source": [
    "data = df.filter(['Close'])\n",
    "#Convert the dataframe to a numpy array\n",
    "dataset = data.values\n",
    "#Get the number of rows to train the model on\n",
    "training_data_len = math.ceil(len(dataset) * .8)\n",
    "\n",
    "training_data_len"
   ]
  },
  {
   "cell_type": "code",
   "execution_count": null,
   "metadata": {
    "pycharm": {
     "is_executing": true
    }
   },
   "outputs": [],
   "source": [
    "#Scale the data\n",
    "scaler = MinMaxScaler(feature_range=(0,1))\n",
    "scaled_data = scaler.fit_transform(dataset)\n",
    "\n",
    "#scaled_data\n"
   ]
  },
  {
   "cell_type": "code",
   "execution_count": null,
   "metadata": {
    "pycharm": {
     "is_executing": true
    }
   },
   "outputs": [],
   "source": [
    "#Create the training data set\n",
    "#Create the scaled training set\n",
    "\n",
    "train_data = scaled_data[0:training_data_len, :]\n",
    "#Split the data into x_train and y_train datasets\n",
    "\n",
    "x_train = []\n",
    "y_train = []\n",
    "\n",
    "for i in range(60, len(train_data)):\n",
    "    x_train.append(train_data[i-60:i, 0])\n",
    "    y_train.append(train_data[i, 0])\n",
    "    # if i<= 61:\n",
    "        # print(x_train)\n",
    "        # print(y_train)\n",
    "        # print()"
   ]
  },
  {
   "cell_type": "code",
   "execution_count": null,
   "metadata": {
    "pycharm": {
     "is_executing": true
    }
   },
   "outputs": [],
   "source": [
    "x_train, y_train = np.array(x_train), np.array(y_train)\n"
   ]
  },
  {
   "cell_type": "code",
   "execution_count": null,
   "metadata": {
    "pycharm": {
     "is_executing": true
    }
   },
   "outputs": [],
   "source": [
    "x_train = np.reshape(x_train, (x_train.shape[0], x_train.shape[1], 1))\n",
    "x_train.shape"
   ]
  },
  {
   "cell_type": "code",
   "execution_count": null,
   "metadata": {
    "pycharm": {
     "is_executing": true
    }
   },
   "outputs": [],
   "source": [
    "model = Sequential()\n",
    "model.add(LSTM(50, return_sequences=True, input_shape=(x_train.shape[1], 1)))\n",
    "\n",
    "model.add(LSTM(50, return_sequences=False))\n",
    "\n",
    "model.add(Dense(25, activation='relu'))\n",
    "model.add(Dense(1, activation='sigmoid'))"
   ]
  },
  {
   "cell_type": "code",
   "execution_count": null,
   "metadata": {
    "pycharm": {
     "is_executing": true
    }
   },
   "outputs": [],
   "source": [
    "model.compile(optimizer='adam', loss='mean_squared_error', metrics = ['mean_absolute_error'])\n",
    "#mean absolute error takes in the absolute difference of predicted values - actual value\n",
    "#mean squared error is used for linear regression problems like this\n"
   ]
  },
  {
   "cell_type": "code",
   "execution_count": null,
   "metadata": {
    "pycharm": {
     "is_executing": true
    }
   },
   "outputs": [],
   "source": [
    "model.fit(x_train, y_train, batch_size=1, epochs=epochCount)"
   ]
  },
  {
   "cell_type": "code",
   "execution_count": null,
   "metadata": {
    "pycharm": {
     "is_executing": true
    }
   },
   "outputs": [],
   "source": [
    "test_data = scaled_data[training_data_len - 60: , :]\n",
    "x_test = []\n",
    "y_test = dataset[training_data_len:, :]\n",
    "for i in range(60, len(test_data)):\n",
    "    x_test.append(test_data[i-60:i, 0])"
   ]
  },
  {
   "cell_type": "code",
   "execution_count": null,
   "metadata": {
    "pycharm": {
     "is_executing": true
    }
   },
   "outputs": [],
   "source": [
    "x_test = np.array(x_test)\n"
   ]
  },
  {
   "cell_type": "code",
   "execution_count": null,
   "metadata": {
    "pycharm": {
     "is_executing": true
    }
   },
   "outputs": [],
   "source": [
    "x_test = np.reshape(x_test, (x_test.shape[0], x_test.shape[1], 1))"
   ]
  },
  {
   "cell_type": "code",
   "execution_count": null,
   "metadata": {
    "pycharm": {
     "is_executing": true
    }
   },
   "outputs": [],
   "source": [
    "#Get the models preducted price value\n",
    "predictions = model.predict(x_test)\n",
    "predictions = scaler.inverse_transform(predictions)"
   ]
  },
  {
   "cell_type": "code",
   "execution_count": null,
   "metadata": {
    "pycharm": {
     "is_executing": true
    }
   },
   "outputs": [],
   "source": [
    "#Get the root mean squared (RMSE)\n",
    "rmse=np.sqrt(np.mean(((predictions- y_test)**2)))\n",
    "rmse"
   ]
  },
  {
   "cell_type": "code",
   "execution_count": null,
   "metadata": {
    "pycharm": {
     "is_executing": true
    }
   },
   "outputs": [],
   "source": [
    "#Plot the data\n",
    "train = data[:training_data_len]\n",
    "valid = data[training_data_len:]\n",
    "valid['Predictions'] = predictions\n",
    "\n",
    "#Visualize data\n",
    "plt.figure(figsize=(16,8))\n",
    "plt.title('Model')\n",
    "plt.xlabel('Date', fontsize=18)\n",
    "plt.ylabel('Close Price USD ($)', fontsize=18)\n",
    "plt.plot(train['Close'])\n",
    "plt.plot(valid[['Close', 'Predictions']])\n",
    "plt.legend(['Train', 'Val', 'Predictions'], loc='lower right')\n",
    "plt.show()"
   ]
  },
  {
   "cell_type": "code",
   "execution_count": null,
   "metadata": {
    "pycharm": {
     "is_executing": true
    }
   },
   "outputs": [],
   "source": [
    "#Show the valid and predicted prices\n",
    "valid"
   ]
  },
  {
   "cell_type": "code",
   "execution_count": null,
   "metadata": {
    "pycharm": {
     "is_executing": true
    }
   },
   "outputs": [],
   "source": [
    "from prophet import Prophet\n",
    "# Preprocess the data to match Prophet's required format\n",
    "df = df.reset_index()\n",
    "df = df.rename(columns={'Date': 'ds', 'Close': 'y'})\n",
    "df = df[['ds', 'y']]\n",
    "\n",
    "# Initialize the Prophet model\n",
    "m = Prophet()\n",
    "\n",
    "# Fit the model to the data\n",
    "m.fit(df)\n",
    "\n",
    "# Make predictions for the future\n",
    "future = m.make_future_dataframe(periods=365)\n",
    "\n",
    "# Generate the forecast\n",
    "forecast = m.predict(future)\n",
    "\n",
    "# Plot the forecast\n",
    "fig = m.plot(forecast)\n",
    "plt.title('Prediction of the '+str(tickerName)+ ' Stock Price using Prophet')\n",
    "plt.xlabel('Date')\n",
    "plt.ylabel('Close Stock Price')\n",
    "plt.show()\n",
    "#black spots are the actual prices"
   ]
  },
  {
   "cell_type": "code",
   "execution_count": null,
   "metadata": {
    "pycharm": {
     "is_executing": true
    }
   },
   "outputs": [],
   "source": [
    "import datetime\n",
    "\n",
    "# Get today's date\n",
    "today = datetime.datetime.now().date()\n",
    "userDate = datetime.datetime.strptime(endDate, '%Y-%m-%d').date()\n",
    "pd.set_option('display.max_rows', None)\n",
    "pd.set_option('display.max_columns', None)\n",
    "# Extract the dates and predicted closing prices from the forecast dataframe\n",
    "forecast_dates = pd.to_datetime(forecast['ds'])\n",
    "forecast_prices = forecast['yhat']\n",
    "\n",
    "# Combine the dates and prices into a new dataframe\n",
    "predicted_prices = pd.concat([forecast_dates, forecast_prices], axis=1)\n",
    "predicted_prices.columns = ['Date', 'Predicted Close']\n",
    "\n",
    "# Filter the dataframe to show only the dates after today\n",
    "predicted_prices = predicted_prices.loc[predicted_prices['Date'].dt.date > userDate]\n",
    "\n",
    "# Print the predicted prices with their dates\n",
    "predicted_prices"
   ]
  }
 ],
 "metadata": {
  "celltoolbar": "Slideshow",
  "kernelspec": {
   "display_name": "Python 3 (ipykernel)",
   "language": "python",
   "name": "python3"
  },
  "language_info": {
   "codemirror_mode": {
    "name": "ipython",
    "version": 3
   },
   "file_extension": ".py",
   "mimetype": "text/x-python",
   "name": "python",
   "nbconvert_exporter": "python",
   "pygments_lexer": "ipython3",
   "version": "3.9.7"
  }
 },
 "nbformat": 4,
 "nbformat_minor": 2
}
